{
  "nbformat": 4,
  "nbformat_minor": 0,
  "metadata": {
    "colab": {
      "private_outputs": true,
      "provenance": [],
      "authorship_tag": "ABX9TyOGokp5FYcElUUBUWU+dh4h",
      "include_colab_link": true
    },
    "kernelspec": {
      "name": "python3",
      "display_name": "Python 3"
    },
    "language_info": {
      "name": "python"
    }
  },
  "cells": [
    {
      "cell_type": "markdown",
      "metadata": {
        "id": "view-in-github",
        "colab_type": "text"
      },
      "source": [
        "<a href=\"https://colab.research.google.com/github/WellcomePeujio/Calculo-de-Area-Bajo-una-Curva/blob/main/C%C3%A1lculo_de_%C3%81rea_Bajo_una_Curva.ipynb\" target=\"_parent\"><img src=\"https://colab.research.google.com/assets/colab-badge.svg\" alt=\"Open In Colab\"/></a>"
      ]
    },
    {
      "cell_type": "markdown",
      "source": [
        "# Cálculo de Área Bajo una Curva (Integrales)\n",
        "\n",
        "## Problema\n",
        "\n",
        "Un parque tiene una piscina cuya profundidad en metros varía según la distancia desde la entrada, modelada por la siguiente función:\n",
        "\n",
        "$$\n",
        "D(x) = 3 - 0.1x^2\n",
        "$$\n",
        "\n",
        "Donde:\n",
        "- \\$( x \\$) es la distancia desde la entrada en metros.\n",
        "- \\$( D(x) \\$) es la profundidad de la piscina en metros a lo largo de la distancia \\$( x \\$).\n",
        "\n",
        "## Preguntas:\n",
        "\n",
        "1. **Calcula el área total de la sección transversal de la piscina entre \\$( x = 0 \\$) y \\$( x = 5 \\$) metros.**\n",
        "2. **Interpreta el área en términos del volumen de agua necesario para llenar la piscina.**\n",
        "\n",
        "\n"
      ],
      "metadata": {
        "id": "FD4XYHvfkEur"
      }
    },
    {
      "cell_type": "markdown",
      "source": [
        "# Resolución Matemática: Cálculo de Área Bajo una Curva (Integrales)\n",
        "\n",
        "## Función dada\n",
        "\n",
        "La profundidad de la piscina en metros varía según la distancia desde la entrada, modelada por la función:\n",
        "\n",
        "$$\n",
        "D(x) = 3 - 0.1x^2\n",
        "$$\n",
        "\n",
        "Donde:\n",
        "- \\$( x \\$) es la distancia desde la entrada en metros.\n",
        "- \\$( D(x) \\$) es la profundidad de la piscina en metros a lo largo de la distancia \\$( x \\$).\n",
        "\n",
        "### 1. Cálculo del área bajo la curva entre \\$( x = 0 \\$) y \\$( x = 5 \\$)\n",
        "\n",
        "El área total de la sección transversal de la piscina es el área bajo la curva de la función \\$( D(x) \\$) entre \\$( x = 0 \\$) y \\$( x = 5 \\$). Para calcular el área total, integramos la función \\$( D(x) \\$) en ese intervalo:\n",
        "\n",
        "$$\n",
        "A = \\int_0^5 (3 - 0.1x^2) \\, dx\n",
        "$$\n",
        "\n",
        "Primero, descomponemos la integral:\n",
        "\n",
        "$$\n",
        "A = \\int_0^5 3 \\, dx - \\int_0^5 0.1x^2 \\, dx\n",
        "$$\n",
        "\n",
        "Resolvemos cada parte por separado:\n",
        "\n",
        "1. Para la primera integral:\n",
        "\n",
        "$$\n",
        "\\int_0^5 3 \\, dx = 3x \\bigg|_0^5 = 3(5) - 3(0) = 15\n",
        "$$\n",
        "\n",
        "2. Para la segunda integral:\n",
        "\n",
        "$$\n",
        "\\int_0^5 0.1x^2 \\, dx = 0.1 \\cdot \\frac{x^3}{3} \\bigg|_0^5 = 0.1 \\cdot \\frac{5^3}{3} - 0.1 \\cdot \\frac{0^3}{3} = 0.1 \\cdot \\frac{125}{3} = 4.17\n",
        "$$\n",
        "\n",
        "Ahora, sumamos los resultados:\n",
        "\n",
        "$$\n",
        "A = 15 - 4.17 = 10.83 \\, \\text{metros cuadrados}\n",
        "$$\n",
        "\n",
        "Por lo tanto, el área total de la sección transversal de la piscina es **10.83 metros cuadrados**.\n",
        "\n",
        "### 2. Interpretación del área en términos del volumen de agua\n",
        "\n",
        "El área calculada representa la sección transversal de la piscina, que es un corte vertical a lo largo de la piscina. Si la longitud de la piscina (a lo largo de su ancho) es \\$( L \\$) metros, el volumen de agua necesario para llenar la piscina es el producto del área por la longitud:\n",
        "\n",
        "$$\n",
        "V = A \\cdot L\n",
        "$$\n",
        "\n",
        "Por ejemplo, si la piscina tiene una longitud de 10 metros, el volumen de agua necesario sería:\n",
        "\n",
        "$$\n",
        "V = 10.83 \\cdot 10 = 108.3 \\, \\text{metros cúbicos}\n",
        "$$\n",
        "\n",
        "---\n",
        "\n",
        "\n",
        "\n"
      ],
      "metadata": {
        "id": "aayHlteZkYLs"
      }
    },
    {
      "cell_type": "code",
      "source": [
        "import numpy as np\n",
        "import matplotlib.pyplot as plt\n",
        "from scipy.integrate import quad\n",
        "\n",
        "# Definir la función de profundidad D(x)\n",
        "def profundidad(x):\n",
        "    return 3 - 0.1 * x**2\n",
        "\n",
        "# 1. Calcular el área bajo la curva entre x = 0 y x = 5 (integral definida)\n",
        "area_total, _ = quad(profundidad, 0, 5)\n",
        "print(f\"El área total de la sección transversal de la piscina es: {area_total:.2f} metros cuadrados\")\n",
        "\n",
        "# 2. Calcular el volumen si la piscina tiene una longitud de 10 metros\n",
        "longitud_piscina = 10\n",
        "volumen = area_total * longitud_piscina\n",
        "print(f\"El volumen de agua necesario para llenar la piscina es: {volumen:.2f} metros cúbicos\")\n",
        "\n",
        "# 3. Graficar la función de profundidad\n",
        "x_vals = np.linspace(0, 5, 500)\n",
        "profundidad_vals = profundidad(x_vals)\n",
        "\n",
        "plt.figure(figsize=(10, 6))\n",
        "plt.plot(x_vals, profundidad_vals, label=\"Profundidad de la piscina\", color=\"blue\")\n",
        "plt.fill_between(x_vals, profundidad_vals, color=\"skyblue\", alpha=0.4)\n",
        "plt.title(\"Evolución de la profundidad de la piscina a lo largo de la distancia\")\n",
        "plt.xlabel(\"Distancia desde la entrada (m)\")\n",
        "plt.ylabel(\"Profundidad (m)\")\n",
        "plt.grid(True)\n",
        "plt.legend()\n",
        "plt.show()\n"
      ],
      "metadata": {
        "id": "YMvcnkJTlfrH"
      },
      "execution_count": null,
      "outputs": []
    }
  ]
}